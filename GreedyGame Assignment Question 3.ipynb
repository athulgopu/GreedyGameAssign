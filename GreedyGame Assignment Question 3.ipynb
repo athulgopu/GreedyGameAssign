{
 "cells": [
  {
   "cell_type": "code",
   "execution_count": 28,
   "metadata": {},
   "outputs": [],
   "source": [
    "#Importing the necessary libraries\n",
    "import numpy as np\n",
    "import pandas as pd\n",
    "import matplotlib.pyplot as plt\n",
    "import seaborn as sns\n",
    "import warnings\n",
    "warnings.filterwarnings('ignore')"
   ]
  },
  {
   "cell_type": "code",
   "execution_count": 29,
   "metadata": {},
   "outputs": [
    {
     "name": "stdout",
     "output_type": "stream",
     "text": [
      "df (46, 6)\n"
     ]
    },
    {
     "data": {
      "text/html": [
       "<div>\n",
       "<style scoped>\n",
       "    .dataframe tbody tr th:only-of-type {\n",
       "        vertical-align: middle;\n",
       "    }\n",
       "\n",
       "    .dataframe tbody tr th {\n",
       "        vertical-align: top;\n",
       "    }\n",
       "\n",
       "    .dataframe thead th {\n",
       "        text-align: right;\n",
       "    }\n",
       "</style>\n",
       "<table border=\"1\" class=\"dataframe\">\n",
       "  <thead>\n",
       "    <tr style=\"text-align: right;\">\n",
       "      <th></th>\n",
       "      <th>Date</th>\n",
       "      <th>DAU</th>\n",
       "      <th>Installs</th>\n",
       "      <th>Uninstalls</th>\n",
       "      <th>Signups</th>\n",
       "      <th>Referrals</th>\n",
       "    </tr>\n",
       "  </thead>\n",
       "  <tbody>\n",
       "    <tr>\n",
       "      <th>0</th>\n",
       "      <td>2022-10-01</td>\n",
       "      <td>24071</td>\n",
       "      <td>6630</td>\n",
       "      <td>6994</td>\n",
       "      <td>3511</td>\n",
       "      <td>962.0</td>\n",
       "    </tr>\n",
       "    <tr>\n",
       "      <th>1</th>\n",
       "      <td>2022-10-02</td>\n",
       "      <td>23548</td>\n",
       "      <td>6366</td>\n",
       "      <td>6669</td>\n",
       "      <td>3387</td>\n",
       "      <td>941.0</td>\n",
       "    </tr>\n",
       "    <tr>\n",
       "      <th>2</th>\n",
       "      <td>2022-10-03</td>\n",
       "      <td>24572</td>\n",
       "      <td>6936</td>\n",
       "      <td>6899</td>\n",
       "      <td>3654</td>\n",
       "      <td>940.0</td>\n",
       "    </tr>\n",
       "    <tr>\n",
       "      <th>3</th>\n",
       "      <td>2022-10-04</td>\n",
       "      <td>24212</td>\n",
       "      <td>6561</td>\n",
       "      <td>6766</td>\n",
       "      <td>3532</td>\n",
       "      <td>960.0</td>\n",
       "    </tr>\n",
       "    <tr>\n",
       "      <th>4</th>\n",
       "      <td>2022-10-05</td>\n",
       "      <td>23247</td>\n",
       "      <td>6059</td>\n",
       "      <td>6402</td>\n",
       "      <td>3315</td>\n",
       "      <td>923.0</td>\n",
       "    </tr>\n",
       "  </tbody>\n",
       "</table>\n",
       "</div>"
      ],
      "text/plain": [
       "        Date    DAU  Installs  Uninstalls  Signups  Referrals\n",
       "0 2022-10-01  24071      6630        6994     3511      962.0\n",
       "1 2022-10-02  23548      6366        6669     3387      941.0\n",
       "2 2022-10-03  24572      6936        6899     3654      940.0\n",
       "3 2022-10-04  24212      6561        6766     3532      960.0\n",
       "4 2022-10-05  23247      6059        6402     3315      923.0"
      ]
     },
     "execution_count": 29,
     "metadata": {},
     "output_type": "execute_result"
    }
   ],
   "source": [
    "# Importing the necessary data\n",
    "df = pd.read_excel('Q3_Sikka data.xlsx')\n",
    "print('df',df.shape)\n",
    "df.head()"
   ]
  },
  {
   "cell_type": "code",
   "execution_count": 30,
   "metadata": {},
   "outputs": [
    {
     "name": "stdout",
     "output_type": "stream",
     "text": [
      "<class 'pandas.core.frame.DataFrame'>\n",
      "RangeIndex: 46 entries, 0 to 45\n",
      "Data columns (total 6 columns):\n",
      " #   Column      Non-Null Count  Dtype         \n",
      "---  ------      --------------  -----         \n",
      " 0   Date        46 non-null     datetime64[ns]\n",
      " 1   DAU         46 non-null     int64         \n",
      " 2   Installs    46 non-null     int64         \n",
      " 3   Uninstalls  46 non-null     int64         \n",
      " 4   Signups     46 non-null     int64         \n",
      " 5   Referrals   31 non-null     float64       \n",
      "dtypes: datetime64[ns](1), float64(1), int64(4)\n",
      "memory usage: 2.3 KB\n"
     ]
    }
   ],
   "source": [
    "# Checking the data\n",
    "df.info()"
   ]
  },
  {
   "cell_type": "code",
   "execution_count": 31,
   "metadata": {},
   "outputs": [
    {
     "data": {
      "text/plain": [
       "Date           0\n",
       "DAU            0\n",
       "Installs       0\n",
       "Uninstalls     0\n",
       "Signups        0\n",
       "Referrals     15\n",
       "dtype: int64"
      ]
     },
     "execution_count": 31,
     "metadata": {},
     "output_type": "execute_result"
    }
   ],
   "source": [
    "# Inspecting the null values in the dataset\n",
    "df.isnull().sum()"
   ]
  },
  {
   "cell_type": "code",
   "execution_count": 32,
   "metadata": {},
   "outputs": [
    {
     "name": "stdout",
     "output_type": "stream",
     "text": [
      "train_df (31, 6)\n"
     ]
    },
    {
     "data": {
      "text/html": [
       "<div>\n",
       "<style scoped>\n",
       "    .dataframe tbody tr th:only-of-type {\n",
       "        vertical-align: middle;\n",
       "    }\n",
       "\n",
       "    .dataframe tbody tr th {\n",
       "        vertical-align: top;\n",
       "    }\n",
       "\n",
       "    .dataframe thead th {\n",
       "        text-align: right;\n",
       "    }\n",
       "</style>\n",
       "<table border=\"1\" class=\"dataframe\">\n",
       "  <thead>\n",
       "    <tr style=\"text-align: right;\">\n",
       "      <th></th>\n",
       "      <th>Date</th>\n",
       "      <th>DAU</th>\n",
       "      <th>Installs</th>\n",
       "      <th>Uninstalls</th>\n",
       "      <th>Signups</th>\n",
       "      <th>Referrals</th>\n",
       "    </tr>\n",
       "  </thead>\n",
       "  <tbody>\n",
       "    <tr>\n",
       "      <th>0</th>\n",
       "      <td>2022-10-01</td>\n",
       "      <td>24071</td>\n",
       "      <td>6630</td>\n",
       "      <td>6994</td>\n",
       "      <td>3511</td>\n",
       "      <td>962.0</td>\n",
       "    </tr>\n",
       "    <tr>\n",
       "      <th>1</th>\n",
       "      <td>2022-10-02</td>\n",
       "      <td>23548</td>\n",
       "      <td>6366</td>\n",
       "      <td>6669</td>\n",
       "      <td>3387</td>\n",
       "      <td>941.0</td>\n",
       "    </tr>\n",
       "    <tr>\n",
       "      <th>2</th>\n",
       "      <td>2022-10-03</td>\n",
       "      <td>24572</td>\n",
       "      <td>6936</td>\n",
       "      <td>6899</td>\n",
       "      <td>3654</td>\n",
       "      <td>940.0</td>\n",
       "    </tr>\n",
       "    <tr>\n",
       "      <th>3</th>\n",
       "      <td>2022-10-04</td>\n",
       "      <td>24212</td>\n",
       "      <td>6561</td>\n",
       "      <td>6766</td>\n",
       "      <td>3532</td>\n",
       "      <td>960.0</td>\n",
       "    </tr>\n",
       "    <tr>\n",
       "      <th>4</th>\n",
       "      <td>2022-10-05</td>\n",
       "      <td>23247</td>\n",
       "      <td>6059</td>\n",
       "      <td>6402</td>\n",
       "      <td>3315</td>\n",
       "      <td>923.0</td>\n",
       "    </tr>\n",
       "  </tbody>\n",
       "</table>\n",
       "</div>"
      ],
      "text/plain": [
       "        Date    DAU  Installs  Uninstalls  Signups  Referrals\n",
       "0 2022-10-01  24071      6630        6994     3511      962.0\n",
       "1 2022-10-02  23548      6366        6669     3387      941.0\n",
       "2 2022-10-03  24572      6936        6899     3654      940.0\n",
       "3 2022-10-04  24212      6561        6766     3532      960.0\n",
       "4 2022-10-05  23247      6059        6402     3315      923.0"
      ]
     },
     "execution_count": 32,
     "metadata": {},
     "output_type": "execute_result"
    }
   ],
   "source": [
    "train_df=df[df.Referrals.notnull()]\n",
    "print('train_df',train_df.shape)\n",
    "train_df.head()"
   ]
  },
  {
   "cell_type": "code",
   "execution_count": 33,
   "metadata": {},
   "outputs": [
    {
     "name": "stdout",
     "output_type": "stream",
     "text": [
      "test_df (15, 5)\n"
     ]
    },
    {
     "data": {
      "text/html": [
       "<div>\n",
       "<style scoped>\n",
       "    .dataframe tbody tr th:only-of-type {\n",
       "        vertical-align: middle;\n",
       "    }\n",
       "\n",
       "    .dataframe tbody tr th {\n",
       "        vertical-align: top;\n",
       "    }\n",
       "\n",
       "    .dataframe thead th {\n",
       "        text-align: right;\n",
       "    }\n",
       "</style>\n",
       "<table border=\"1\" class=\"dataframe\">\n",
       "  <thead>\n",
       "    <tr style=\"text-align: right;\">\n",
       "      <th></th>\n",
       "      <th>Date</th>\n",
       "      <th>DAU</th>\n",
       "      <th>Installs</th>\n",
       "      <th>Uninstalls</th>\n",
       "      <th>Signups</th>\n",
       "    </tr>\n",
       "  </thead>\n",
       "  <tbody>\n",
       "    <tr>\n",
       "      <th>31</th>\n",
       "      <td>2022-11-01</td>\n",
       "      <td>12816</td>\n",
       "      <td>3763</td>\n",
       "      <td>4149</td>\n",
       "      <td>1806</td>\n",
       "    </tr>\n",
       "    <tr>\n",
       "      <th>32</th>\n",
       "      <td>2022-11-02</td>\n",
       "      <td>12812</td>\n",
       "      <td>3087</td>\n",
       "      <td>3868</td>\n",
       "      <td>1550</td>\n",
       "    </tr>\n",
       "    <tr>\n",
       "      <th>33</th>\n",
       "      <td>2022-11-03</td>\n",
       "      <td>12042</td>\n",
       "      <td>3176</td>\n",
       "      <td>3815</td>\n",
       "      <td>1410</td>\n",
       "    </tr>\n",
       "    <tr>\n",
       "      <th>34</th>\n",
       "      <td>2022-11-04</td>\n",
       "      <td>12595</td>\n",
       "      <td>3172</td>\n",
       "      <td>3878</td>\n",
       "      <td>1629</td>\n",
       "    </tr>\n",
       "    <tr>\n",
       "      <th>35</th>\n",
       "      <td>2022-11-05</td>\n",
       "      <td>12361</td>\n",
       "      <td>3390</td>\n",
       "      <td>4021</td>\n",
       "      <td>1578</td>\n",
       "    </tr>\n",
       "  </tbody>\n",
       "</table>\n",
       "</div>"
      ],
      "text/plain": [
       "         Date    DAU  Installs  Uninstalls  Signups\n",
       "31 2022-11-01  12816      3763        4149     1806\n",
       "32 2022-11-02  12812      3087        3868     1550\n",
       "33 2022-11-03  12042      3176        3815     1410\n",
       "34 2022-11-04  12595      3172        3878     1629\n",
       "35 2022-11-05  12361      3390        4021     1578"
      ]
     },
     "execution_count": 33,
     "metadata": {},
     "output_type": "execute_result"
    }
   ],
   "source": [
    "test_df=df[df.Referrals.isnull()]\n",
    "test_df.drop('Referrals',axis=1,inplace=True)\n",
    "print('test_df',test_df.shape)\n",
    "test_df.head()"
   ]
  },
  {
   "cell_type": "code",
   "execution_count": 34,
   "metadata": {},
   "outputs": [
    {
     "data": {
      "text/plain": [
       "DAU           0.918227\n",
       "Installs      0.921538\n",
       "Uninstalls    0.922248\n",
       "Signups       0.965688\n",
       "Referrals     1.000000\n",
       "Name: Referrals, dtype: float64"
      ]
     },
     "execution_count": 34,
     "metadata": {},
     "output_type": "execute_result"
    }
   ],
   "source": [
    "train_df.corr()['Referrals'].sort_values()"
   ]
  },
  {
   "cell_type": "markdown",
   "metadata": {},
   "source": [
    "##### * All the variables have strong positive correlation with referrals"
   ]
  },
  {
   "cell_type": "code",
   "execution_count": 35,
   "metadata": {},
   "outputs": [
    {
     "data": {
      "text/plain": [
       "DAU          -0.421082\n",
       "Installs      0.037388\n",
       "Uninstalls   -0.216499\n",
       "Signups       0.153072\n",
       "Referrals     0.073963\n",
       "dtype: float64"
      ]
     },
     "execution_count": 35,
     "metadata": {},
     "output_type": "execute_result"
    }
   ],
   "source": [
    "train_df.skew()"
   ]
  },
  {
   "cell_type": "markdown",
   "metadata": {},
   "source": [
    "##### * All the features are having almost a normal distribution, we can say DAU is slightly left skewed.We can ignore for this analysis as it is less."
   ]
  },
  {
   "cell_type": "code",
   "execution_count": 36,
   "metadata": {},
   "outputs": [],
   "source": [
    "# We can drop the date column since its not useful for prediction\n",
    "train_df.drop('Date',axis=1,inplace=True)"
   ]
  },
  {
   "cell_type": "code",
   "execution_count": 37,
   "metadata": {},
   "outputs": [
    {
     "data": {
      "image/png": "[encoded data removed]",
      "text/plain": [
       "<Figure size 432x288 with 1 Axes>"
      ]
     },
     "metadata": {
      "needs_background": "light"
     },
     "output_type": "display_data"
    },
    {
     "data": {
      "image/png": "[encoded data removed]",
      "text/plain": [
       "<Figure size 432x288 with 1 Axes>"
      ]
     },
     "metadata": {
      "needs_background": "light"
     },
     "output_type": "display_data"
    },
    {
     "data": {
      "image/png": "[encoded data removed]",
      "text/plain": [
       "<Figure size 432x288 with 1 Axes>"
      ]
     },
     "metadata": {
      "needs_background": "light"
     },
     "output_type": "display_data"
    },
    {
     "data": {
      "image/png": "[encoded data removed]",
      "text/plain": [
       "<Figure size 432x288 with 1 Axes>"
      ]
     },
     "metadata": {
      "needs_background": "light"
     },
     "output_type": "display_data"
    },
    {
     "data": {
      "image/png": "[encoded data removed]",
      "text/plain": [
       "<Figure size 432x288 with 1 Axes>"
      ]
     },
     "metadata": {
      "needs_background": "light"
     },
     "output_type": "display_data"
    }
   ],
   "source": [
    "# Checking for outliers\n",
    "for col in train_df.columns:\n",
    "    sns.boxplot(train_df[col])\n",
    "    plt.show()"
   ]
  },
  {
   "cell_type": "markdown",
   "metadata": {},
   "source": [
    "##### * There are no outliers in any of the features"
   ]
  },
  {
   "cell_type": "code",
   "execution_count": 38,
   "metadata": {},
   "outputs": [
    {
     "name": "stdout",
     "output_type": "stream",
     "text": [
      "x_train shape: (31, 4)\n",
      "x_test shape: (15, 4)\n",
      "y_train shape: (31,)\n"
     ]
    }
   ],
   "source": [
    "# Splitting into train and test for model building\n",
    "x_train=train_df.drop('Referrals',axis=1)\n",
    "y_train=train_df['Referrals']\n",
    "\n",
    "x_test=test_df.drop('Date',axis=1)\n",
    "\n",
    "print('x_train shape:',x_train.shape)\n",
    "print('x_test shape:',x_test.shape)\n",
    "print('y_train shape:',y_train.shape)"
   ]
  },
  {
   "cell_type": "code",
   "execution_count": 39,
   "metadata": {},
   "outputs": [
    {
     "data": {
      "text/html": [
       "<div>\n",
       "<style scoped>\n",
       "    .dataframe tbody tr th:only-of-type {\n",
       "        vertical-align: middle;\n",
       "    }\n",
       "\n",
       "    .dataframe tbody tr th {\n",
       "        vertical-align: top;\n",
       "    }\n",
       "\n",
       "    .dataframe thead th {\n",
       "        text-align: right;\n",
       "    }\n",
       "</style>\n",
       "<table border=\"1\" class=\"dataframe\">\n",
       "  <thead>\n",
       "    <tr style=\"text-align: right;\">\n",
       "      <th></th>\n",
       "      <th>DAU</th>\n",
       "      <th>Installs</th>\n",
       "      <th>Uninstalls</th>\n",
       "      <th>Signups</th>\n",
       "    </tr>\n",
       "  </thead>\n",
       "  <tbody>\n",
       "    <tr>\n",
       "      <th>0</th>\n",
       "      <td>24071</td>\n",
       "      <td>6630</td>\n",
       "      <td>6994</td>\n",
       "      <td>3511</td>\n",
       "    </tr>\n",
       "    <tr>\n",
       "      <th>1</th>\n",
       "      <td>23548</td>\n",
       "      <td>6366</td>\n",
       "      <td>6669</td>\n",
       "      <td>3387</td>\n",
       "    </tr>\n",
       "    <tr>\n",
       "      <th>2</th>\n",
       "      <td>24572</td>\n",
       "      <td>6936</td>\n",
       "      <td>6899</td>\n",
       "      <td>3654</td>\n",
       "    </tr>\n",
       "    <tr>\n",
       "      <th>3</th>\n",
       "      <td>24212</td>\n",
       "      <td>6561</td>\n",
       "      <td>6766</td>\n",
       "      <td>3532</td>\n",
       "    </tr>\n",
       "    <tr>\n",
       "      <th>4</th>\n",
       "      <td>23247</td>\n",
       "      <td>6059</td>\n",
       "      <td>6402</td>\n",
       "      <td>3315</td>\n",
       "    </tr>\n",
       "  </tbody>\n",
       "</table>\n",
       "</div>"
      ],
      "text/plain": [
       "     DAU  Installs  Uninstalls  Signups\n",
       "0  24071      6630        6994     3511\n",
       "1  23548      6366        6669     3387\n",
       "2  24572      6936        6899     3654\n",
       "3  24212      6561        6766     3532\n",
       "4  23247      6059        6402     3315"
      ]
     },
     "execution_count": 39,
     "metadata": {},
     "output_type": "execute_result"
    }
   ],
   "source": [
    "x_train.head()"
   ]
  },
  {
   "cell_type": "code",
   "execution_count": 40,
   "metadata": {},
   "outputs": [
    {
     "data": {
      "text/plain": [
       "0    962.0\n",
       "1    941.0\n",
       "2    940.0\n",
       "3    960.0\n",
       "4    923.0\n",
       "Name: Referrals, dtype: float64"
      ]
     },
     "execution_count": 40,
     "metadata": {},
     "output_type": "execute_result"
    }
   ],
   "source": [
    "y_train.head()"
   ]
  },
  {
   "cell_type": "code",
   "execution_count": 41,
   "metadata": {},
   "outputs": [
    {
     "data": {
      "text/html": [
       "<div>\n",
       "<style scoped>\n",
       "    .dataframe tbody tr th:only-of-type {\n",
       "        vertical-align: middle;\n",
       "    }\n",
       "\n",
       "    .dataframe tbody tr th {\n",
       "        vertical-align: top;\n",
       "    }\n",
       "\n",
       "    .dataframe thead th {\n",
       "        text-align: right;\n",
       "    }\n",
       "</style>\n",
       "<table border=\"1\" class=\"dataframe\">\n",
       "  <thead>\n",
       "    <tr style=\"text-align: right;\">\n",
       "      <th></th>\n",
       "      <th>DAU</th>\n",
       "      <th>Installs</th>\n",
       "      <th>Uninstalls</th>\n",
       "      <th>Signups</th>\n",
       "    </tr>\n",
       "  </thead>\n",
       "  <tbody>\n",
       "    <tr>\n",
       "      <th>31</th>\n",
       "      <td>12816</td>\n",
       "      <td>3763</td>\n",
       "      <td>4149</td>\n",
       "      <td>1806</td>\n",
       "    </tr>\n",
       "    <tr>\n",
       "      <th>32</th>\n",
       "      <td>12812</td>\n",
       "      <td>3087</td>\n",
       "      <td>3868</td>\n",
       "      <td>1550</td>\n",
       "    </tr>\n",
       "    <tr>\n",
       "      <th>33</th>\n",
       "      <td>12042</td>\n",
       "      <td>3176</td>\n",
       "      <td>3815</td>\n",
       "      <td>1410</td>\n",
       "    </tr>\n",
       "    <tr>\n",
       "      <th>34</th>\n",
       "      <td>12595</td>\n",
       "      <td>3172</td>\n",
       "      <td>3878</td>\n",
       "      <td>1629</td>\n",
       "    </tr>\n",
       "    <tr>\n",
       "      <th>35</th>\n",
       "      <td>12361</td>\n",
       "      <td>3390</td>\n",
       "      <td>4021</td>\n",
       "      <td>1578</td>\n",
       "    </tr>\n",
       "  </tbody>\n",
       "</table>\n",
       "</div>"
      ],
      "text/plain": [
       "      DAU  Installs  Uninstalls  Signups\n",
       "31  12816      3763        4149     1806\n",
       "32  12812      3087        3868     1550\n",
       "33  12042      3176        3815     1410\n",
       "34  12595      3172        3878     1629\n",
       "35  12361      3390        4021     1578"
      ]
     },
     "execution_count": 41,
     "metadata": {},
     "output_type": "execute_result"
    }
   ],
   "source": [
    "x_test.head()"
   ]
  },
  {
   "cell_type": "code",
   "execution_count": 42,
   "metadata": {},
   "outputs": [
    {
     "name": "stdout",
     "output_type": "stream",
     "text": [
      "x_train shape: (31, 4)\n",
      "x_test shape: (15, 4)\n",
      "y_train shape: (31,)\n"
     ]
    }
   ],
   "source": [
    "# Using standard scaler to scale the data set\n",
    "\n",
    "from sklearn.preprocessing import StandardScaler\n",
    "ss=StandardScaler()\n",
    "x_train=pd.DataFrame(ss.fit_transform(x_train),columns=x_train.columns)\n",
    "x_test=pd.DataFrame(ss.transform(x_test),columns=x_test.columns)\n",
    "\n",
    "print('x_train shape:',x_train.shape)\n",
    "print('x_test shape:',x_test.shape)\n",
    "print('y_train shape:',y_train.shape)"
   ]
  },
  {
   "cell_type": "code",
   "execution_count": 43,
   "metadata": {},
   "outputs": [
    {
     "data": {
      "text/html": [
       "<div>\n",
       "<style scoped>\n",
       "    .dataframe tbody tr th:only-of-type {\n",
       "        vertical-align: middle;\n",
       "    }\n",
       "\n",
       "    .dataframe tbody tr th {\n",
       "        vertical-align: top;\n",
       "    }\n",
       "\n",
       "    .dataframe thead th {\n",
       "        text-align: right;\n",
       "    }\n",
       "</style>\n",
       "<table border=\"1\" class=\"dataframe\">\n",
       "  <thead>\n",
       "    <tr style=\"text-align: right;\">\n",
       "      <th></th>\n",
       "      <th>DAU</th>\n",
       "      <th>Installs</th>\n",
       "      <th>Uninstalls</th>\n",
       "      <th>Signups</th>\n",
       "    </tr>\n",
       "  </thead>\n",
       "  <tbody>\n",
       "    <tr>\n",
       "      <th>0</th>\n",
       "      <td>0.925445</td>\n",
       "      <td>0.614418</td>\n",
       "      <td>0.690245</td>\n",
       "      <td>0.616447</td>\n",
       "    </tr>\n",
       "    <tr>\n",
       "      <th>1</th>\n",
       "      <td>0.805100</td>\n",
       "      <td>0.455266</td>\n",
       "      <td>0.443318</td>\n",
       "      <td>0.495171</td>\n",
       "    </tr>\n",
       "    <tr>\n",
       "      <th>2</th>\n",
       "      <td>1.040728</td>\n",
       "      <td>0.798889</td>\n",
       "      <td>0.618066</td>\n",
       "      <td>0.756307</td>\n",
       "    </tr>\n",
       "    <tr>\n",
       "      <th>3</th>\n",
       "      <td>0.957890</td>\n",
       "      <td>0.572822</td>\n",
       "      <td>0.517016</td>\n",
       "      <td>0.636986</td>\n",
       "    </tr>\n",
       "    <tr>\n",
       "      <th>4</th>\n",
       "      <td>0.735839</td>\n",
       "      <td>0.270192</td>\n",
       "      <td>0.240457</td>\n",
       "      <td>0.424752</td>\n",
       "    </tr>\n",
       "  </tbody>\n",
       "</table>\n",
       "</div>"
      ],
      "text/plain": [
       "        DAU  Installs  Uninstalls   Signups\n",
       "0  0.925445  0.614418    0.690245  0.616447\n",
       "1  0.805100  0.455266    0.443318  0.495171\n",
       "2  1.040728  0.798889    0.618066  0.756307\n",
       "3  0.957890  0.572822    0.517016  0.636986\n",
       "4  0.735839  0.270192    0.240457  0.424752"
      ]
     },
     "execution_count": 43,
     "metadata": {},
     "output_type": "execute_result"
    }
   ],
   "source": [
    "x_train.head()"
   ]
  },
  {
   "cell_type": "code",
   "execution_count": 44,
   "metadata": {},
   "outputs": [
    {
     "data": {
      "text/plain": [
       "0    962.0\n",
       "1    941.0\n",
       "2    940.0\n",
       "3    960.0\n",
       "4    923.0\n",
       "Name: Referrals, dtype: float64"
      ]
     },
     "execution_count": 44,
     "metadata": {},
     "output_type": "execute_result"
    }
   ],
   "source": [
    "y_train.head()"
   ]
  },
  {
   "cell_type": "code",
   "execution_count": 45,
   "metadata": {},
   "outputs": [
    {
     "data": {
      "text/html": [
       "<div>\n",
       "<style scoped>\n",
       "    .dataframe tbody tr th:only-of-type {\n",
       "        vertical-align: middle;\n",
       "    }\n",
       "\n",
       "    .dataframe tbody tr th {\n",
       "        vertical-align: top;\n",
       "    }\n",
       "\n",
       "    .dataframe thead th {\n",
       "        text-align: right;\n",
       "    }\n",
       "</style>\n",
       "<table border=\"1\" class=\"dataframe\">\n",
       "  <thead>\n",
       "    <tr style=\"text-align: right;\">\n",
       "      <th></th>\n",
       "      <th>DAU</th>\n",
       "      <th>Installs</th>\n",
       "      <th>Uninstalls</th>\n",
       "      <th>Signups</th>\n",
       "    </tr>\n",
       "  </thead>\n",
       "  <tbody>\n",
       "    <tr>\n",
       "      <th>0</th>\n",
       "      <td>-1.664387</td>\n",
       "      <td>-1.113945</td>\n",
       "      <td>-1.471320</td>\n",
       "      <td>-1.051106</td>\n",
       "    </tr>\n",
       "    <tr>\n",
       "      <th>1</th>\n",
       "      <td>-1.665307</td>\n",
       "      <td>-1.521470</td>\n",
       "      <td>-1.684818</td>\n",
       "      <td>-1.301483</td>\n",
       "    </tr>\n",
       "    <tr>\n",
       "      <th>2</th>\n",
       "      <td>-1.842488</td>\n",
       "      <td>-1.467816</td>\n",
       "      <td>-1.725086</td>\n",
       "      <td>-1.438409</td>\n",
       "    </tr>\n",
       "    <tr>\n",
       "      <th>3</th>\n",
       "      <td>-1.715240</td>\n",
       "      <td>-1.470228</td>\n",
       "      <td>-1.677220</td>\n",
       "      <td>-1.224219</td>\n",
       "    </tr>\n",
       "    <tr>\n",
       "      <th>4</th>\n",
       "      <td>-1.769085</td>\n",
       "      <td>-1.338807</td>\n",
       "      <td>-1.568572</td>\n",
       "      <td>-1.274098</td>\n",
       "    </tr>\n",
       "  </tbody>\n",
       "</table>\n",
       "</div>"
      ],
      "text/plain": [
       "        DAU  Installs  Uninstalls   Signups\n",
       "0 -1.664387 -1.113945   -1.471320 -1.051106\n",
       "1 -1.665307 -1.521470   -1.684818 -1.301483\n",
       "2 -1.842488 -1.467816   -1.725086 -1.438409\n",
       "3 -1.715240 -1.470228   -1.677220 -1.224219\n",
       "4 -1.769085 -1.338807   -1.568572 -1.274098"
      ]
     },
     "execution_count": 45,
     "metadata": {},
     "output_type": "execute_result"
    }
   ],
   "source": [
    "x_test.head()"
   ]
  },
  {
   "cell_type": "code",
   "execution_count": 47,
   "metadata": {},
   "outputs": [],
   "source": [
    "# Building a basic linear regression model to predict the referrals\n",
    "\n",
    "from sklearn.linear_model import LinearRegression\n",
    "\n",
    "model=LinearRegression()\n",
    "model.fit(x_train,y_train)\n",
    "y_pred=model.predict(x_test)"
   ]
  },
  {
   "cell_type": "code",
   "execution_count": 58,
   "metadata": {},
   "outputs": [
    {
     "data": {
      "text/html": [
       "<div>\n",
       "<style scoped>\n",
       "    .dataframe tbody tr th:only-of-type {\n",
       "        vertical-align: middle;\n",
       "    }\n",
       "\n",
       "    .dataframe tbody tr th {\n",
       "        vertical-align: top;\n",
       "    }\n",
       "\n",
       "    .dataframe thead th {\n",
       "        text-align: right;\n",
       "    }\n",
       "</style>\n",
       "<table border=\"1\" class=\"dataframe\">\n",
       "  <thead>\n",
       "    <tr style=\"text-align: right;\">\n",
       "      <th></th>\n",
       "      <th>Referrals</th>\n",
       "    </tr>\n",
       "  </thead>\n",
       "  <tbody>\n",
       "    <tr>\n",
       "      <th>0</th>\n",
       "      <td>495.15</td>\n",
       "    </tr>\n",
       "    <tr>\n",
       "      <th>1</th>\n",
       "      <td>459.46</td>\n",
       "    </tr>\n",
       "    <tr>\n",
       "      <th>2</th>\n",
       "      <td>410.56</td>\n",
       "    </tr>\n",
       "    <tr>\n",
       "      <th>3</th>\n",
       "      <td>473.24</td>\n",
       "    </tr>\n",
       "    <tr>\n",
       "      <th>4</th>\n",
       "      <td>446.48</td>\n",
       "    </tr>\n",
       "    <tr>\n",
       "      <th>5</th>\n",
       "      <td>475.01</td>\n",
       "    </tr>\n",
       "    <tr>\n",
       "      <th>6</th>\n",
       "      <td>441.08</td>\n",
       "    </tr>\n",
       "    <tr>\n",
       "      <th>7</th>\n",
       "      <td>472.43</td>\n",
       "    </tr>\n",
       "    <tr>\n",
       "      <th>8</th>\n",
       "      <td>516.30</td>\n",
       "    </tr>\n",
       "    <tr>\n",
       "      <th>9</th>\n",
       "      <td>527.80</td>\n",
       "    </tr>\n",
       "    <tr>\n",
       "      <th>10</th>\n",
       "      <td>545.87</td>\n",
       "    </tr>\n",
       "    <tr>\n",
       "      <th>11</th>\n",
       "      <td>525.50</td>\n",
       "    </tr>\n",
       "    <tr>\n",
       "      <th>12</th>\n",
       "      <td>556.22</td>\n",
       "    </tr>\n",
       "    <tr>\n",
       "      <th>13</th>\n",
       "      <td>561.19</td>\n",
       "    </tr>\n",
       "    <tr>\n",
       "      <th>14</th>\n",
       "      <td>699.07</td>\n",
       "    </tr>\n",
       "  </tbody>\n",
       "</table>\n",
       "</div>"
      ],
      "text/plain": [
       "    Referrals\n",
       "0      495.15\n",
       "1      459.46\n",
       "2      410.56\n",
       "3      473.24\n",
       "4      446.48\n",
       "5      475.01\n",
       "6      441.08\n",
       "7      472.43\n",
       "8      516.30\n",
       "9      527.80\n",
       "10     545.87\n",
       "11     525.50\n",
       "12     556.22\n",
       "13     561.19\n",
       "14     699.07"
      ]
     },
     "execution_count": 58,
     "metadata": {},
     "output_type": "execute_result"
    }
   ],
   "source": [
    "# rounding off to 2 decimal places\n",
    "y_pred=(pd.DataFrame(y_pred,columns=['Referrals'])).round(2)\n",
    "y_pred"
   ]
  },
  {
   "cell_type": "code",
   "execution_count": 59,
   "metadata": {},
   "outputs": [
    {
     "data": {
      "text/html": [
       "<div>\n",
       "<style scoped>\n",
       "    .dataframe tbody tr th:only-of-type {\n",
       "        vertical-align: middle;\n",
       "    }\n",
       "\n",
       "    .dataframe tbody tr th {\n",
       "        vertical-align: top;\n",
       "    }\n",
       "\n",
       "    .dataframe thead th {\n",
       "        text-align: right;\n",
       "    }\n",
       "</style>\n",
       "<table border=\"1\" class=\"dataframe\">\n",
       "  <thead>\n",
       "    <tr style=\"text-align: right;\">\n",
       "      <th></th>\n",
       "      <th>Date</th>\n",
       "      <th>DAU</th>\n",
       "      <th>Installs</th>\n",
       "      <th>Uninstalls</th>\n",
       "      <th>Signups</th>\n",
       "      <th>Referrals</th>\n",
       "    </tr>\n",
       "  </thead>\n",
       "  <tbody>\n",
       "    <tr>\n",
       "      <th>0</th>\n",
       "      <td>2022-11-01</td>\n",
       "      <td>12816</td>\n",
       "      <td>3763</td>\n",
       "      <td>4149</td>\n",
       "      <td>1806</td>\n",
       "      <td>495.15</td>\n",
       "    </tr>\n",
       "    <tr>\n",
       "      <th>1</th>\n",
       "      <td>2022-11-02</td>\n",
       "      <td>12812</td>\n",
       "      <td>3087</td>\n",
       "      <td>3868</td>\n",
       "      <td>1550</td>\n",
       "      <td>459.46</td>\n",
       "    </tr>\n",
       "    <tr>\n",
       "      <th>2</th>\n",
       "      <td>2022-11-03</td>\n",
       "      <td>12042</td>\n",
       "      <td>3176</td>\n",
       "      <td>3815</td>\n",
       "      <td>1410</td>\n",
       "      <td>410.56</td>\n",
       "    </tr>\n",
       "    <tr>\n",
       "      <th>3</th>\n",
       "      <td>2022-11-04</td>\n",
       "      <td>12595</td>\n",
       "      <td>3172</td>\n",
       "      <td>3878</td>\n",
       "      <td>1629</td>\n",
       "      <td>473.24</td>\n",
       "    </tr>\n",
       "    <tr>\n",
       "      <th>4</th>\n",
       "      <td>2022-11-05</td>\n",
       "      <td>12361</td>\n",
       "      <td>3390</td>\n",
       "      <td>4021</td>\n",
       "      <td>1578</td>\n",
       "      <td>446.48</td>\n",
       "    </tr>\n",
       "    <tr>\n",
       "      <th>5</th>\n",
       "      <td>2022-11-06</td>\n",
       "      <td>13166</td>\n",
       "      <td>3441</td>\n",
       "      <td>4071</td>\n",
       "      <td>1656</td>\n",
       "      <td>475.01</td>\n",
       "    </tr>\n",
       "    <tr>\n",
       "      <th>6</th>\n",
       "      <td>2022-11-07</td>\n",
       "      <td>12565</td>\n",
       "      <td>3468</td>\n",
       "      <td>4011</td>\n",
       "      <td>1556</td>\n",
       "      <td>441.08</td>\n",
       "    </tr>\n",
       "    <tr>\n",
       "      <th>7</th>\n",
       "      <td>2022-11-08</td>\n",
       "      <td>12988</td>\n",
       "      <td>4468</td>\n",
       "      <td>4143</td>\n",
       "      <td>1808</td>\n",
       "      <td>472.43</td>\n",
       "    </tr>\n",
       "    <tr>\n",
       "      <th>8</th>\n",
       "      <td>2022-11-09</td>\n",
       "      <td>12992</td>\n",
       "      <td>4491</td>\n",
       "      <td>4638</td>\n",
       "      <td>2017</td>\n",
       "      <td>516.30</td>\n",
       "    </tr>\n",
       "    <tr>\n",
       "      <th>9</th>\n",
       "      <td>2022-11-10</td>\n",
       "      <td>13377</td>\n",
       "      <td>4261</td>\n",
       "      <td>4480</td>\n",
       "      <td>1997</td>\n",
       "      <td>527.80</td>\n",
       "    </tr>\n",
       "    <tr>\n",
       "      <th>10</th>\n",
       "      <td>2022-11-11</td>\n",
       "      <td>13826</td>\n",
       "      <td>4274</td>\n",
       "      <td>4512</td>\n",
       "      <td>2047</td>\n",
       "      <td>545.87</td>\n",
       "    </tr>\n",
       "    <tr>\n",
       "      <th>11</th>\n",
       "      <td>2022-11-12</td>\n",
       "      <td>13464</td>\n",
       "      <td>4660</td>\n",
       "      <td>4856</td>\n",
       "      <td>2066</td>\n",
       "      <td>525.50</td>\n",
       "    </tr>\n",
       "    <tr>\n",
       "      <th>12</th>\n",
       "      <td>2022-11-13</td>\n",
       "      <td>13415</td>\n",
       "      <td>4416</td>\n",
       "      <td>4749</td>\n",
       "      <td>2147</td>\n",
       "      <td>556.22</td>\n",
       "    </tr>\n",
       "    <tr>\n",
       "      <th>13</th>\n",
       "      <td>2022-11-14</td>\n",
       "      <td>13873</td>\n",
       "      <td>4097</td>\n",
       "      <td>4305</td>\n",
       "      <td>2065</td>\n",
       "      <td>561.19</td>\n",
       "    </tr>\n",
       "    <tr>\n",
       "      <th>14</th>\n",
       "      <td>2022-11-15</td>\n",
       "      <td>14459</td>\n",
       "      <td>4890</td>\n",
       "      <td>4593</td>\n",
       "      <td>2707</td>\n",
       "      <td>699.07</td>\n",
       "    </tr>\n",
       "  </tbody>\n",
       "</table>\n",
       "</div>"
      ],
      "text/plain": [
       "         Date    DAU  Installs  Uninstalls  Signups  Referrals\n",
       "0  2022-11-01  12816      3763        4149     1806     495.15\n",
       "1  2022-11-02  12812      3087        3868     1550     459.46\n",
       "2  2022-11-03  12042      3176        3815     1410     410.56\n",
       "3  2022-11-04  12595      3172        3878     1629     473.24\n",
       "4  2022-11-05  12361      3390        4021     1578     446.48\n",
       "5  2022-11-06  13166      3441        4071     1656     475.01\n",
       "6  2022-11-07  12565      3468        4011     1556     441.08\n",
       "7  2022-11-08  12988      4468        4143     1808     472.43\n",
       "8  2022-11-09  12992      4491        4638     2017     516.30\n",
       "9  2022-11-10  13377      4261        4480     1997     527.80\n",
       "10 2022-11-11  13826      4274        4512     2047     545.87\n",
       "11 2022-11-12  13464      4660        4856     2066     525.50\n",
       "12 2022-11-13  13415      4416        4749     2147     556.22\n",
       "13 2022-11-14  13873      4097        4305     2065     561.19\n",
       "14 2022-11-15  14459      4890        4593     2707     699.07"
      ]
     },
     "execution_count": 59,
     "metadata": {},
     "output_type": "execute_result"
    }
   ],
   "source": [
    "#Final predicted values for 15 days of Nov\n",
    "final_ref=pd.concat([test_df.reset_index(drop=True),y_pred],axis=1)\n",
    "final_ref"
   ]
  },
  {
   "cell_type": "code",
   "execution_count": null,
   "metadata": {},
   "outputs": [],
   "source": []
  }
 ],
 "metadata": {
  "kernelspec": {
   "display_name": "Python 3",
   "language": "python",
   "name": "python3"
  },
  "language_info": {
   "codemirror_mode": {
    "name": "ipython",
    "version": 3
   },
   "file_extension": ".py",
   "mimetype": "text/x-python",
   "name": "python",
   "nbconvert_exporter": "python",
   "pygments_lexer": "ipython3",
   "version": "3.7.3"
  }
 },
 "nbformat": 4,
 "nbformat_minor": 4
}
